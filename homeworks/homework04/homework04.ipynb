{
 "cells": [
  {
   "cell_type": "markdown",
   "metadata": {},
   "source": [
    "# Homework 4: Practical analysis with BioPython"
   ]
  },
  {
   "cell_type": "markdown",
   "metadata": {},
   "source": [
    "For the homework, you are going to extend the code from the analysis of our FASTQ file in lectures 8 and 9.\n",
    "Recall that the FASTQ file contains reads from a real sequencing run of influenza virus HA and NA genes.\n",
    "\n",
    "The _actual sequences_ are as follows:\n",
    "\n",
    "    5'-[end of HA]-AGGCGGCCGC-[16 X N barcode]-3'\n",
    "    \n",
    "or \n",
    "\n",
    "    5'-[end of NA]-AGGCGGCCGC-[16 X N barcode]-3'\n",
    "    \n",
    "The end of NA is:\n",
    "\n",
    "    ...CACGATAGATAAATAATAGTGCACCAT\n",
    "    \n",
    "The end of HA is:\n",
    "\n",
    "    ...CCGGATTTGCATATAATGATGCACCAT\n",
    "    \n",
    "The _sequencing reads_ (located in the FASTQ file) are from the reverse end of these actual sequences, so the first thing in the sequencing reads is the reverse complement of the barcode followed by the reverse complement of the constant sequence, etc.\n",
    "The reads can originate from **either** HA or NA, and that will be distinguished by the most 3' end of the read.\n",
    "But in our example exercise in class, we did not distinguish among reads matching to HA and NA, as we didn't even look far enough into the read to tell the identity.\n",
    "\n",
    "For the homework, your goal is to write code that extends the material from lectures 8 and 9 to also distinguish between HA and NA.\n",
    "This homework can be completed almost entirely by re-using code from lecture 9. You will need to set up your analysis to do the following:\n",
    " 1. Get the reverse complement of each read.\n",
    " 2. Determine if it matches the expected pattern for HA and NA, and if so which one.\n",
    " 3. If it matches, extract the barcode and add it to a dictionary to keep track of counts.\n",
    " 4. Determine the number and distribution of barcodes for HA and NA separately.\n",
    "\n",
    "Please include code to address each of the following questions. Please include code comments to explain what your code is attempting to accomplish. Don't forget to include references to the sources you used to obtain your answer, including your classmates (if you are working in groups).  "
   ]
  },
  {
   "cell_type": "markdown",
   "metadata": {},
   "source": [
    "1. How many reads map to HA, and how many reads map to NA?"
   ]
  },
  {
   "cell_type": "code",
   "execution_count": 62,
   "metadata": {},
   "outputs": [
    {
     "name": "stdout",
     "output_type": "stream",
     "text": [
      "4122 reads map to NA, 5409 reads map to HA\n"
     ]
    }
   ],
   "source": [
    "# HW 4 Prob 1\n",
    "# Completed with the help of Theresa Chen and Sophie Kogut, as well as lecture 8 and 9 Jupyter notebooks\n",
    "\n",
    "# Import necessary packages\n",
    "import re\n",
    "import Bio.SeqIO\n",
    "\n",
    "\n",
    "# Defining a function to produce the reverse complement of a sequence, taken from the lecture 8 Jupyter notebook\n",
    "def reverse_complement(seq):\n",
    "    rc_dict = {'A': 'T', 'T': 'A', 'G': 'C', 'C': 'G', 'N': 'N'}\n",
    "    revcomplement = []\n",
    "    for nt in reversed(seq.upper()):\n",
    "        revcomplement.append(rc_dict[nt])\n",
    "    return ''.join(revcomplement)\n",
    "\n",
    "# Converting the sequence part of each read into a string, taken from the lecture 9 Jupyter notebook\n",
    "seqreads = list(Bio.SeqIO.parse('barcodes_R1.fastq', 'fastq'))\n",
    "seqreads_str = []\n",
    "for seqrecord in seqreads:\n",
    "    seqreads_str.append(str(seqrecord.seq))\n",
    "    # Now all sequences are in a list called seqreads_str\n",
    "\n",
    "# All of the following code in this cell is my own\n",
    "\n",
    "# Defining the end of NA and HA sequences\n",
    "end_NA = 'CACGATAGATAAATAATAGTGCACCAT'\n",
    "end_HA = 'CCGGATTTGCATATAATGATGCACCAT'\n",
    "\n",
    "# Creating seperate lists for NA and HA sequences\n",
    "NA_seq_list = []\n",
    "HA_seq_list = []\n",
    "\n",
    "# Defining a search pattern for HA and NA sequences\n",
    "NA_search = re.compile(end_NA)\n",
    "HA_search = re.compile(end_HA)\n",
    "\n",
    "for read in seqreads_str:   \n",
    "    UCread = read.upper()\n",
    "    rev_read = reverse_complement(UCread)     \n",
    "    match_NA = NA_search.search(rev_read)   # Finding sequences in the seqreads_str list that contain HA or NA\n",
    "    match_HA = HA_search.search(rev_read)\n",
    "    if match_NA:                            # If a sequence contains NA, it's appended to the NA_seq_list\n",
    "        NA_seq_list.append(read)\n",
    "    if match_HA:                            # And vice versa for HA sequences and the HA_seq_list\n",
    "        HA_seq_list.append(read)\n",
    "\n",
    "\n",
    "print(f\"{len(NA_seq_list)} reads map to NA, {len(HA_seq_list)} reads map to HA\")\n",
    "\n"
   ]
  },
  {
   "cell_type": "markdown",
   "metadata": {},
   "source": [
    "2. What is the HA barcode with the most counts (and how many counts)? Also answer the same question for NA.\n",
    "\n",
    "    _Hint: you will need to find the key associated with the maximum value in your dictionary. There are many ways to do this._"
   ]
  },
  {
   "cell_type": "code",
   "execution_count": 61,
   "metadata": {},
   "outputs": [
    {
     "name": "stdout",
     "output_type": "stream",
     "text": [
      "The NA barcode with the most counts is ACCAGTTCTCCCCGGG, which has 152 counts\n",
      "The HA barcode with the most counts is CCCGACCCGACATTAA, which has 155 counts\n"
     ]
    }
   ],
   "source": [
    "# HW 4 Prob 2\n",
    "# Defining a function to read a barcode of a specific length, add it to a dictionary, and count the occurances of said barcode\n",
    "# Structure taken from the lecture 9 Jupyter notebook, edited to solve this problem\n",
    "def count_barcodes(seqs, bclen=16, upstream='AGGCGGCCGC'):\n",
    "    \"\"\"Parse and count barcodes.\n",
    "    \n",
    "    Parameters\n",
    "    ----------\n",
    "    seqs : list\n",
    "        DNA sequences.\n",
    "    bclen : int\n",
    "        Length of barcode\n",
    "    upstream : str\n",
    "        Sequence upstream of barcode.\n",
    "    downstream : str\n",
    "        Sequence downstream of barcode.\n",
    "        \n",
    "    Returns\n",
    "    -------\n",
    "    dict\n",
    "        Keyed by each valid barcode, value is number of times the barcode\n",
    "        is observed.\n",
    "        \n",
    "    Note\n",
    "    ----\n",
    "    The function is **not** case-sensitive, and all barcodes are reported\n",
    "    in upper-case.\n",
    "    \n",
    "    \"\"\"\n",
    "    \n",
    "    # compile our re\n",
    "    barcode_re = re.compile(upstream + f\"(?P<barcode>[ATCGN]{{{bclen}}})$\")\n",
    "    \n",
    "    # Create a dictionary for the barcodes and their counts\n",
    "    barcode_counts = {} \n",
    "    \n",
    "    for seq in seqs:\n",
    "        seq = seq.upper()\n",
    "        seq = reverse_complement(seq)\n",
    "        match = barcode_re.search(seq)  # Searching for sequences with the 'upstream' and a 'barcode'\n",
    "        if match:\n",
    "            barcode = match.group(\"barcode\")    # barcode is equal to the 16 nt <barcode> in the search pattern\n",
    "            if barcode in barcode_counts:\n",
    "                barcode_counts[barcode] += 1    # If the barcode is in the dictionary, a value of 1 is added to the count\n",
    "            else:\n",
    "                barcode_counts[barcode] = 1     # If the barcode is not already in the dictionary, it is created as a key with the value 1\n",
    "        \n",
    "    return barcode_counts\n",
    "\n",
    "# The rest of the code in this cell is my own\n",
    "\n",
    "# Running the count_barcodes function on the lists of NA and HA sequences\n",
    "# Now I have 2 dictionaries with barcodes and their counts\n",
    "NA_counts = count_barcodes(seqs = NA_seq_list)\n",
    "HA_counts = count_barcodes(seqs = HA_seq_list)\n",
    "\n",
    "# Finding the NA barcode with the most counts\n",
    "def most_counts(count_dict):\n",
    "    highest_count_int = 0                           # Creating a value that keeps track of the highest barcode count\n",
    "    highest_count_str = ''                          # Creating a string to keep track of the string with the highest barcode count\n",
    "    for bc in count_dict:                           # The function goes through all of the barcodes in the dictionary\n",
    "        if count_dict[bc] > highest_count_int:      # If the count of a barcode in the dictionary is higher than the highest barcode count so far, it gets replaced by the higher integer\n",
    "            highest_count_int = count_dict[bc]      \n",
    "            highest_count_str = bc                  # If the barcode count of a barcode is higher than the highest barcode count so far, the barcode replaces the highest barcode string\n",
    "    return highest_count_str                        # The function returns the string with the highest barcode count\n",
    "\n",
    "# Renaming the string that comes back with the highest barcode count from each dictionary\n",
    "highest_NA_str = most_counts(count_dict = NA_counts)\n",
    "highest_HA_str = most_counts(count_dict = HA_counts)\n",
    "\n",
    "print(f\"The NA barcode with the most counts is {highest_NA_str}, which has {NA_counts[highest_NA_str]} counts\")\n",
    "print(f\"The HA barcode with the most counts is {highest_HA_str}, which has {HA_counts[highest_HA_str]} counts\")"
   ]
  }
 ],
 "metadata": {
  "kernelspec": {
   "display_name": "Python 3.9.12 ('base')",
   "language": "python",
   "name": "python3"
  },
  "language_info": {
   "codemirror_mode": {
    "name": "ipython",
    "version": 3
   },
   "file_extension": ".py",
   "mimetype": "text/x-python",
   "name": "python",
   "nbconvert_exporter": "python",
   "pygments_lexer": "ipython3",
   "version": "3.9.12"
  },
  "toc": {
   "nav_menu": {},
   "number_sections": false,
   "sideBar": true,
   "skip_h1_title": false,
   "toc_cell": false,
   "toc_position": {
    "height": "623.8px",
    "left": "0px",
    "right": "829.6px",
    "top": "33.2px",
    "width": "322.4px"
   },
   "toc_section_display": "block",
   "toc_window_display": true
  },
  "vscode": {
   "interpreter": {
    "hash": "d4d1e4263499bec80672ea0156c357c1ee493ec2b1c70f0acce89fc37c4a6abe"
   }
  }
 },
 "nbformat": 4,
 "nbformat_minor": 2
}
